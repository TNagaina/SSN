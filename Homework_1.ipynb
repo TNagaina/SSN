{
 "cells": [
  {
   "cell_type": "code",
   "execution_count": 91,
   "id": "01083bd8-7ed5-4c13-8c50-e26ef56ba7bf",
   "metadata": {},
   "outputs": [],
   "source": [
    "#importamos las librerías necesarias:\n",
    "import numpy as np #para cálculos\n",
    "import matplotlib.pyplot as plt  #para el dibujo de las gráficas"
   ]
  },
  {
   "cell_type": "code",
   "execution_count": 93,
   "id": "466002fd-e2ff-4914-8f4c-3f98e4c266ca",
   "metadata": {},
   "outputs": [],
   "source": [
    "#fucnión de fermi dirac en función de la diferencia entre energias con la temperatura como input\n",
    "def Fermi(Temp):\n",
    "#primero deffinimos las variables    \n",
    "    kb=8.167e-5\n",
    "    interval= np.arange(-0.2, 0.2, 0.001)\n",
    "    operation = lambda x:  1 / ((np.exp(x / (kb * Temp))) + 1)\n",
    "    y=list(map(operation, interval))\n",
    "# luego definimos como las variables se verán representadas en la gráfica        \n",
    "    plt.plot(interval,y,label=f\"T={Temp} K\")\n",
    "    plt.xlabel('E-Ef')\n",
    "    plt.ylabel('Fermi distribution')\n",
    "    plt.title('Fermi Dirac distribution for a specific temperature')\n",
    "    "
   ]
  },
  {
   "cell_type": "code",
   "execution_count": null,
   "id": "a8c3ed0d-2b62-4872-b34a-fc10ba0f605b",
   "metadata": {},
   "outputs": [
    {
     "name": "stdout",
     "output_type": "stream",
     "text": [
      "Enter a temperature for the system (in kelvin):\n"
     ]
    }
   ],
   "source": [
    "# para acabar se aplica la función que hemos creado\n",
    "print('Enter a temperature for the system (in kelvin):')\n",
    "Temp=float(input())\n",
    "Fermi(Temp)\n",
    "plt.legend()\n",
    "plt.show()"
   ]
  },
  {
   "cell_type": "code",
   "execution_count": null,
   "id": "ab75e85b-1e4f-47c2-9356-3b4cacd95894",
   "metadata": {},
   "outputs": [],
   "source": []
  }
 ],
 "metadata": {
  "kernelspec": {
   "display_name": "Python [conda env:base] *",
   "language": "python",
   "name": "conda-base-py"
  },
  "language_info": {
   "codemirror_mode": {
    "name": "ipython",
    "version": 3
   },
   "file_extension": ".py",
   "mimetype": "text/x-python",
   "name": "python",
   "nbconvert_exporter": "python",
   "pygments_lexer": "ipython3",
   "version": "3.12.7"
  }
 },
 "nbformat": 4,
 "nbformat_minor": 5
}
